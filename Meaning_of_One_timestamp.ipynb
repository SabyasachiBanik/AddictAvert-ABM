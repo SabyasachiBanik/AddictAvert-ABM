{
  "nbformat": 4,
  "nbformat_minor": 0,
  "metadata": {
    "colab": {
      "provenance": [],
      "toc_visible": true
    },
    "kernelspec": {
      "name": "python3",
      "display_name": "Python 3"
    },
    "language_info": {
      "name": "python"
    }
  },
  "cells": [
    {
      "cell_type": "markdown",
      "source": [
        "# Understanding the Temporal Implications of One Timestamp\n",
        "\n",
        "To understand what one timestamp might represent in our study, we refer again to the dataset available at https://www.kaggle.com/datasets/jackogozaly/steam-player-data.\n",
        "\n",
        "We use the metric 'average players' as a proxy for addiciton to individual games. For each distinct game, we identified the time at which it reached its peak in average player count, herein referred to as 'peak_popularity_time'. Subsequently, we selected all timestamps post 'peak_popularity_time' and determined the lowest timestamp for each game. This allowed us to calculate the time difference from 'peak_popularity_time' to this lowest timestamp ('time_from_peak_to_lowest'). Please note that this difference can be approximated as \"Diminishing Phase\" in our model setup, i.e T1->T2. For ease of comparison and consistency, we converted this time difference into months, assuming an average month length of 30.44 days.\n",
        "\n",
        "This step was repeated for each unique game in the dataset, and the average 'time_from_peak_to_lowest' across all games was calculated. Given that our 'Diminishing Phase' incorporates 10 timestamps, we further divided this average by 10 to correspond an approximate value for each timestamp.\n",
        "\n",
        "**Conclusion:** The final calculation indicates that, on average, each timestamp in our Agent-Based Model (ABM) is equivalent to approximately 1.13 months. Thus, we can infer that each step in our model corresponds to just over a month of real-world time, providing a tangible interpretation of the model's temporal dimension."
      ],
      "metadata": {
        "id": "1j6l7I8ICqCc"
      }
    },
    {
      "cell_type": "code",
      "source": [
        "import pandas as pd\n",
        "\n",
        "# We load the data and select the relevant columns\n",
        "data = pd.read_csv('/content/Valve_Player_Data.csv')\n",
        "data = data[['Game_Name', 'Month_Year', 'Avg_players']]\n",
        "\n",
        "# Converting 'Month_Year' to datetime, if it's not already\n",
        "data['Month_Year'] = pd.to_datetime(data['Month_Year'])\n",
        "\n",
        "results = []\n",
        "\n",
        "# Loop through each unique game\n",
        "for game in data['Game_Name'].unique():\n",
        "    # Select data for this game\n",
        "    game_data = data[data['Game_Name'] == game]\n",
        "\n",
        "    # Finding the time of peak popularity (max 'Avg_players')\n",
        "    peak_popularity_time = game_data[game_data['Avg_players'] == game_data['Avg_players'].max()]['Month_Year'].iloc[0]\n",
        "\n",
        "    # Subset the dataframe to only consider dates after peak popularity\n",
        "    post_peak_data = game_data[game_data['Month_Year'] > peak_popularity_time]\n",
        "\n",
        "    # If there are no dates after the peak popularity time, we skip this game\n",
        "    if post_peak_data.empty:\n",
        "        continue\n",
        "\n",
        "    # Finding the time of lowest popularity after the peak ('Avg_players' min after peak)\n",
        "    lowest_popularity_time = post_peak_data[post_peak_data['Avg_players'] == post_peak_data['Avg_players'].min()]['Month_Year'].iloc[0]\n",
        "\n",
        "    # Calculating the length of time from peak to lowest popularity\n",
        "    time_from_peak_to_lowest = (lowest_popularity_time - peak_popularity_time).days\n",
        "\n",
        "    # Since our data is monthly, we convert days to months\n",
        "    time_from_peak_to_lowest_in_months = time_from_peak_to_lowest / 30.44  # using the average number of days in a month\n",
        "\n",
        "    # Append results for this game to the list\n",
        "    results.append({\n",
        "        'game_name': game,\n",
        "        'time_from_peak_to_lowest_in_months': time_from_peak_to_lowest_in_months,\n",
        "    })\n",
        "\n",
        "# Converting results to a DataFrame\n",
        "results_df = pd.DataFrame(results)\n",
        "\n",
        "print(results_df)\n",
        "\n",
        "# We calculate the average time from peak to lowest across all games\n",
        "average_time = results_df['time_from_peak_to_lowest_in_months'].mean()\n",
        "\n",
        "# We then define one time stamp as one tenth of this average time\n",
        "one_time_stamp = average_time / 10\n",
        "\n",
        "print(f\"One time stamp corresponds to approximately {one_time_stamp:.2f} months.\")\n"
      ],
      "metadata": {
        "colab": {
          "base_uri": "https://localhost:8080/"
        },
        "id": "L0Pb4R2nC_Yi",
        "outputId": "b6c5fb26-8a35-4748-f346-8f3970e428ed"
      },
      "execution_count": 1,
      "outputs": [
        {
          "output_type": "stream",
          "name": "stdout",
          "text": [
            "                           game_name  time_from_peak_to_lowest_in_months\n",
            "0   Counter Strike: Global Offensive                           14.980289\n",
            "1                             Dota 2                           46.977661\n",
            "2                PUBG: Battlegrounds                           32.982917\n",
            "3                       Apex Legends                            1.018397\n",
            "4                    Team Fortress 2                            2.003942\n",
            "..                               ...                                 ...\n",
            "85                     Battlefield 1                            1.018397\n",
            "86                      Dying Light                             3.022339\n",
            "87                    Slay the Spire                           20.959264\n",
            "88                        The Sims 4                            2.036794\n",
            "89          Divinity: Original Sin 2                            9.986859\n",
            "\n",
            "[90 rows x 2 columns]\n",
            "One time stamp corresponds to approximately 1.13 months.\n"
          ]
        }
      ]
    }
  ]
}